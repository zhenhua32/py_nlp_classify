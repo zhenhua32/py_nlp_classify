{
 "cells": [
  {
   "cell_type": "code",
   "execution_count": 1,
   "metadata": {},
   "outputs": [],
   "source": [
    "import os\n",
    "import json\n",
    "import pandas as pd"
   ]
  },
  {
   "attachments": {},
   "cell_type": "markdown",
   "metadata": {},
   "source": [
    "# 处理 CLUE 的数据集"
   ]
  },
  {
   "cell_type": "code",
   "execution_count": 5,
   "metadata": {},
   "outputs": [],
   "source": [
    "train_file  = r\"..\\clue_data\\tnews_public\\train.json\"\n",
    "dev_file  = r\"..\\clue_data\\tnews_public\\dev.json\"\n",
    "test_file = r\"..\\clue_data\\tnews_public\\test.json\"\n",
    "label_file  = r\"..\\clue_data\\tnews_public\\labels.json\""
   ]
  },
  {
   "cell_type": "code",
   "execution_count": 8,
   "metadata": {},
   "outputs": [
    {
     "name": "stdout",
     "output_type": "stream",
     "text": [
      "train:  53360\n",
      "dev:  10000\n",
      "label:  15\n"
     ]
    }
   ],
   "source": [
    "train_list = []\n",
    "dev_list = []\n",
    "label_list = []\n",
    "with open(train_file, \"r\", encoding=\"utf-8\") as f:\n",
    "    for line in f:\n",
    "        train_list.append(json.loads(line))\n",
    "with open(dev_file, \"r\", encoding=\"utf-8\") as f:\n",
    "    for line in f:\n",
    "        dev_list.append(json.loads(line))\n",
    "with open(label_file, \"r\", encoding=\"utf-8\") as f:\n",
    "    for line in f:\n",
    "        label_list.append(json.loads(line))\n",
    "\n",
    "print(\"train: \", len(train_list))\n",
    "print(\"dev: \", len(dev_list))\n",
    "print(\"label: \", len(label_list))"
   ]
  },
  {
   "cell_type": "code",
   "execution_count": 9,
   "metadata": {},
   "outputs": [],
   "source": [
    "# 重新写入文件, 目录都是 ../data 目录下\n",
    "label_dict = {}\n",
    "for i in range(len(label_list)):\n",
    "    label_item = label_list[i]\n",
    "    label_desc = label_item[\"label_desc\"]\n",
    "    label_item[\"label_id\"] = i\n",
    "    label_dict[label_desc] = label_item\n",
    "with open(\"../data/label.json\", \"w\", encoding=\"utf-8\") as f:\n",
    "    json.dump(label_dict, f, ensure_ascii=False, indent=2)"
   ]
  },
  {
   "cell_type": "code",
   "execution_count": 10,
   "metadata": {},
   "outputs": [],
   "source": [
    "with open(\"../data/train.csv\", \"w\", encoding=\"utf-8\") as f:\n",
    "    for item in train_list:\n",
    "        f.write(f\"{item['label_desc']}\\t{item['sentence']}\\n\")\n",
    "with open(\"../data/dev.csv\", \"w\", encoding=\"utf-8\") as f:\n",
    "    for item in dev_list:\n",
    "        f.write(f\"{item['label_desc']}\\t{item['sentence']}\\n\")"
   ]
  },
  {
   "attachments": {},
   "cell_type": "markdown",
   "metadata": {},
   "source": [
    "# 简单分析下数据"
   ]
  },
  {
   "cell_type": "code",
   "execution_count": 11,
   "metadata": {},
   "outputs": [],
   "source": [
    "df_train = pd.read_csv(\"../data/train.csv\", header=None, index_col=None, names=[\"label\", \"title\"], sep=\"\\t\")\n",
    "df_dev = pd.read_csv(\"../data/dev.csv\", header=None, index_col=None, names=[\"label\", \"title\"], sep=\"\\t\")"
   ]
  },
  {
   "cell_type": "code",
   "execution_count": 12,
   "metadata": {},
   "outputs": [],
   "source": [
    "df_train[\"len\"] = df_train[\"title\"].apply(lambda x: len(x))\n",
    "df_dev[\"len\"] = df_dev[\"title\"].apply(lambda x: len(x))"
   ]
  },
  {
   "cell_type": "code",
   "execution_count": 13,
   "metadata": {},
   "outputs": [
    {
     "data": {
      "text/plain": [
       "<AxesSubplot:>"
      ]
     },
     "execution_count": 13,
     "metadata": {},
     "output_type": "execute_result"
    },
    {
     "data": {
      "image/png": "[encoded data removed]",
      "text/plain": [
       "<Figure size 432x288 with 1 Axes>"
      ]
     },
     "metadata": {
      "needs_background": "light"
     },
     "output_type": "display_data"
    }
   ],
   "source": [
    "df_train[\"label\"].value_counts().plot(kind=\"bar\")"
   ]
  },
  {
   "cell_type": "code",
   "execution_count": 14,
   "metadata": {},
   "outputs": [
    {
     "data": {
      "text/plain": [
       "<AxesSubplot:>"
      ]
     },
     "execution_count": 14,
     "metadata": {},
     "output_type": "execute_result"
    },
    {
     "data": {
      "image/png": "[encoded data removed]",
      "text/plain": [
       "<Figure size 432x288 with 1 Axes>"
      ]
     },
     "metadata": {
      "needs_background": "light"
     },
     "output_type": "display_data"
    }
   ],
   "source": [
    "df_dev[\"label\"].value_counts().plot(kind=\"bar\")"
   ]
  },
  {
   "cell_type": "code",
   "execution_count": 15,
   "metadata": {},
   "outputs": [
    {
     "data": {
      "text/plain": [
       "count    53360.000000\n",
       "mean        22.130941\n",
       "std          7.309748\n",
       "min          2.000000\n",
       "25%         17.000000\n",
       "50%         22.000000\n",
       "75%         28.000000\n",
       "max        145.000000\n",
       "Name: len, dtype: float64"
      ]
     },
     "execution_count": 15,
     "metadata": {},
     "output_type": "execute_result"
    }
   ],
   "source": [
    "df_train[\"len\"].describe()"
   ]
  },
  {
   "cell_type": "code",
   "execution_count": 19,
   "metadata": {},
   "outputs": [
    {
     "name": "stdout",
     "output_type": "stream",
     "text": [
      "39.0\n",
      "48.001000000000204\n"
     ]
    }
   ],
   "source": [
    "print(df_train[\"len\"].quantile(0.99))\n",
    "print(df_dev[\"len\"].quantile(0.999))"
   ]
  }
 ],
 "metadata": {
  "kernelspec": {
   "display_name": "nlp",
   "language": "python",
   "name": "python3"
  },
  "language_info": {
   "codemirror_mode": {
    "name": "ipython",
    "version": 3
   },
   "file_extension": ".py",
   "mimetype": "text/x-python",
   "name": "python",
   "nbconvert_exporter": "python",
   "pygments_lexer": "ipython3",
   "version": "3.8.12"
  },
  "orig_nbformat": 4
 },
 "nbformat": 4,
 "nbformat_minor": 2
}
