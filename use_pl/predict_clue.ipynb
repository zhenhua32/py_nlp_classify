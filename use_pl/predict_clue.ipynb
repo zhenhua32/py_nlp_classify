{
 "cells": [
  {
   "cell_type": "code",
   "execution_count": 31,
   "metadata": {},
   "outputs": [],
   "source": [
    "import os\n",
    "import json\n",
    "import pandas as pd\n",
    "from tqdm import tqdm"
   ]
  },
  {
   "attachments": {},
   "cell_type": "markdown",
   "metadata": {},
   "source": [
    "# 预测, 并输出成 clue 的格式"
   ]
  },
  {
   "cell_type": "code",
   "execution_count": 25,
   "metadata": {},
   "outputs": [],
   "source": [
    "test_file_v10 = r\"../clue_data/tnews_public/test1.0.json\"\n",
    "test_file_v11 = r\"../clue_data/tnews_public/test.json\"\n",
    "label_file = r\"../data/label.json\""
   ]
  },
  {
   "cell_type": "code",
   "execution_count": 26,
   "metadata": {},
   "outputs": [],
   "source": [
    "test_list_v1 = []\n",
    "test_list = []\n",
    "label_dict ={}\n",
    "with open(test_file_v10, \"r\", encoding=\"utf-8\") as f:\n",
    "    for line in f.readlines():\n",
    "        test_list_v1.append(json.loads(line))\n",
    "with open(test_file_v11, \"r\", encoding=\"utf-8\") as f:\n",
    "    for line in f.readlines():\n",
    "        test_list.append(json.loads(line))\n",
    "with open(label_file, \"r\", encoding=\"utf-8\") as f:\n",
    "    label_dict = json.load(f)"
   ]
  },
  {
   "cell_type": "code",
   "execution_count": 4,
   "metadata": {},
   "outputs": [],
   "source": [
    "# 加载模型\n",
    "import torch\n",
    "import pytorch_lightning as pl\n",
    "from transformers import BertTokenizer\n",
    "\n",
    "from model import PlModel, BertLinear\n",
    "from data import load_label"
   ]
  },
  {
   "cell_type": "code",
   "execution_count": 27,
   "metadata": {},
   "outputs": [
    {
     "name": "stdout",
     "output_type": "stream",
     "text": [
      "模型加载完成\n"
     ]
    }
   ],
   "source": [
    "label2id, id2label = load_label(r\"..\\data\\label.json\")\n",
    "model = BertLinear(\"bert-base-chinese\", len(label2id), load_pretrain=False)\n",
    "pl_model = PlModel.load_from_checkpoint(\"./best_model.ckpt\", model=model, id2label=id2label)\n",
    "pl_model.eval()\n",
    "print(\"模型加载完成\")"
   ]
  },
  {
   "cell_type": "code",
   "execution_count": 29,
   "metadata": {},
   "outputs": [],
   "source": [
    "pl_model.init_predict(\"bert-base-chinese\")"
   ]
  },
  {
   "cell_type": "code",
   "execution_count": 30,
   "metadata": {},
   "outputs": [
    {
     "data": {
      "text/plain": [
       "[{'text': '科技创新, chaptgpt 引爆未来', 'pred_label': 'news_tech', 'prob': 0.5867988}]"
      ]
     },
     "execution_count": 30,
     "metadata": {},
     "output_type": "execute_result"
    }
   ],
   "source": [
    "pl_model.predict_raw([\"科技创新, chaptgpt 引爆未来\"])"
   ]
  },
  {
   "cell_type": "code",
   "execution_count": 32,
   "metadata": {},
   "outputs": [
    {
     "name": "stderr",
     "output_type": "stream",
     "text": [
      "100%|██████████| 10000/10000 [01:18<00:00, 126.89it/s]\n"
     ]
    }
   ],
   "source": [
    "# 预测, 并生成 clue 的提交文件\n",
    "output_dir = \"submit_clue\"\n",
    "os.makedirs(output_dir, exist_ok=True)\n",
    "\n",
    "# 生成 test1.0 的提交文件\n",
    "predict_file_v10 = os.path.join(output_dir, \"tnews10_predict.json\")\n",
    "with open(predict_file_v10, \"w\", encoding=\"utf-8\") as f:\n",
    "    for item in tqdm(test_list_v1):\n",
    "        item_id = item[\"id\"]\n",
    "        text = item[\"sentence\"]\n",
    "        label_desc = pl_model.predict_raw([text])[0][\"pred_label\"]\n",
    "        label = label_dict[label_desc][\"label\"]\n",
    "        f.write(json.dumps({\"id\": item_id, \"label\": label, \"label_desc\": label_desc}, ensure_ascii=False) + \"\\n\")"
   ]
  },
  {
   "cell_type": "code",
   "execution_count": 33,
   "metadata": {},
   "outputs": [
    {
     "name": "stderr",
     "output_type": "stream",
     "text": [
      "100%|██████████| 10000/10000 [02:34<00:00, 64.70it/s]\n"
     ]
    }
   ],
   "source": [
    "# 生成 test 的提交文件\n",
    "predict_file_v11 = os.path.join(output_dir, \"tnews11_predict.json\")\n",
    "with open(predict_file_v11, \"w\", encoding=\"utf-8\") as f:\n",
    "    for item in tqdm(test_list):\n",
    "        item_id = item[\"id\"]\n",
    "        text = item[\"sentence\"]\n",
    "        label_desc = pl_model.predict_raw([text])[0][\"pred_label\"]\n",
    "        label = label_dict[label_desc][\"label\"]\n",
    "        f.write(json.dumps({\"id\": item_id, \"label\": label, \"label_desc\": label_desc}, ensure_ascii=False) + \"\\n\")"
   ]
  }
 ],
 "metadata": {
  "kernelspec": {
   "display_name": "nlp",
   "language": "python",
   "name": "python3"
  },
  "language_info": {
   "codemirror_mode": {
    "name": "ipython",
    "version": 3
   },
   "file_extension": ".py",
   "mimetype": "text/x-python",
   "name": "python",
   "nbconvert_exporter": "python",
   "pygments_lexer": "ipython3",
   "version": "3.8.12"
  },
  "orig_nbformat": 4
 },
 "nbformat": 4,
 "nbformat_minor": 2
}
